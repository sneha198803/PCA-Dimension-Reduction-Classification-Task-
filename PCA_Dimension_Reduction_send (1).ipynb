{
 "cells": [
  {
   "cell_type": "markdown",
   "metadata": {},
   "source": [
    "# Importing Libraries"
   ]
  },
  {
   "cell_type": "code",
   "execution_count": 27,
   "metadata": {},
   "outputs": [
    {
     "name": "stdout",
     "output_type": "stream",
     "text": [
      "Collecting scikit-learn\n",
      "  Downloading https://files.pythonhosted.org/packages/33/ac/98a9c3f4b6e810c45196f6e15e04f9d83fe3d6000eebbb74dfd084446432/scikit_learn-0.24.2-cp37-cp37m-win_amd64.whl (6.8MB)\n",
      "Collecting joblib>=0.11 (from scikit-learn)\n",
      "  Downloading https://files.pythonhosted.org/packages/55/85/70c6602b078bd9e6f3da4f467047e906525c355a4dacd4f71b97a35d9897/joblib-1.0.1-py3-none-any.whl (303kB)\n",
      "Collecting threadpoolctl>=2.0.0 (from scikit-learn)\n",
      "  Downloading https://files.pythonhosted.org/packages/f7/12/ec3f2e203afa394a149911729357aa48affc59c20e2c1c8297a60f33f133/threadpoolctl-2.1.0-py3-none-any.whl\n",
      "Requirement already satisfied, skipping upgrade: numpy>=1.13.3 in d:\\anaconda\\lib\\site-packages (from scikit-learn) (1.16.2)\n",
      "Requirement already satisfied, skipping upgrade: scipy>=0.19.1 in d:\\anaconda\\lib\\site-packages (from scikit-learn) (1.2.1)\n",
      "Installing collected packages: joblib, threadpoolctl, scikit-learn\n",
      "  Found existing installation: scikit-learn 0.20.3\n",
      "    Uninstalling scikit-learn-0.20.3:\n",
      "      Successfully uninstalled scikit-learn-0.20.3\n",
      "Note: you may need to restart the kernel to use updated packages.\n"
     ]
    },
    {
     "name": "stderr",
     "output_type": "stream",
     "text": [
      "Could not install packages due to an EnvironmentError: [WinError 5] Access is denied: 'd:\\\\anaconda\\\\lib\\\\site-packages\\\\~klearn\\\\datasets\\\\_svmlight_format.cp37-win_amd64.pyd'\n",
      "Consider using the `--user` option or check the permissions.\n",
      "\n"
     ]
    }
   ],
   "source": [
    "pip install --upgrade scikit-learn"
   ]
  },
  {
   "cell_type": "code",
   "execution_count": 1,
   "metadata": {},
   "outputs": [],
   "source": [
    "#import all the necessary libraries\n",
    "import pandas as pd\n",
    "import matplotlib.pyplot as plt\n",
    "import numpy as np\n",
    "import seaborn as sns\n",
    "\n",
    "from sklearn.decomposition import PCA\n",
    "from sklearn.preprocessing import StandardScaler\n",
    "from sklearn.model_selection import train_test_split\n",
    "from sklearn.linear_model import LogisticRegression\n",
    "from sklearn.metrics import roc_auc_score\n",
    "from sklearn.metrics import roc_curve\n",
    "from sklearn.metrics import confusion_matrix\n",
    "from sklearn import metrics\n",
    "from sklearn.datasets import make_classification\n",
    "from sklearn.metrics import plot_confusion_matrix\n",
    "from sklearn.model_selection import (KFold,RepeatedKFold, LeaveOneOut, StratifiedKFold, train_test_split, cross_validate,LeavePOut)\n"
   ]
  },
  {
   "cell_type": "code",
   "execution_count": 2,
   "metadata": {},
   "outputs": [],
   "source": [
    "#read the data \n",
    "df = pd.read_csv(\"Dry_Bean_Data_Final.csv\")"
   ]
  },
  {
   "cell_type": "code",
   "execution_count": 3,
   "metadata": {},
   "outputs": [
    {
     "data": {
      "text/html": [
       "<div>\n",
       "<style scoped>\n",
       "    .dataframe tbody tr th:only-of-type {\n",
       "        vertical-align: middle;\n",
       "    }\n",
       "\n",
       "    .dataframe tbody tr th {\n",
       "        vertical-align: top;\n",
       "    }\n",
       "\n",
       "    .dataframe thead th {\n",
       "        text-align: right;\n",
       "    }\n",
       "</style>\n",
       "<table border=\"1\" class=\"dataframe\">\n",
       "  <thead>\n",
       "    <tr style=\"text-align: right;\">\n",
       "      <th></th>\n",
       "      <th>Area</th>\n",
       "      <th>Perimeter</th>\n",
       "      <th>MajorAxisLength</th>\n",
       "      <th>MinorAxisLength</th>\n",
       "      <th>AspectRation</th>\n",
       "      <th>Eccentricity</th>\n",
       "      <th>ConvexArea</th>\n",
       "      <th>EquivDiameter</th>\n",
       "      <th>Extent</th>\n",
       "      <th>Solidity</th>\n",
       "      <th>roundness</th>\n",
       "      <th>Compactness</th>\n",
       "      <th>ShapeFactor1</th>\n",
       "      <th>ShapeFactor2</th>\n",
       "      <th>ShapeFactor3</th>\n",
       "      <th>ShapeFactor4</th>\n",
       "      <th>Class</th>\n",
       "    </tr>\n",
       "  </thead>\n",
       "  <tbody>\n",
       "    <tr>\n",
       "      <th>0</th>\n",
       "      <td>28395</td>\n",
       "      <td>610.291</td>\n",
       "      <td>208.178117</td>\n",
       "      <td>173.888747</td>\n",
       "      <td>1.197191</td>\n",
       "      <td>0.549812</td>\n",
       "      <td>28715</td>\n",
       "      <td>190.141097</td>\n",
       "      <td>0.763923</td>\n",
       "      <td>0.988856</td>\n",
       "      <td>0.958027</td>\n",
       "      <td>0.913358</td>\n",
       "      <td>0.007332</td>\n",
       "      <td>0.003147</td>\n",
       "      <td>0.834222</td>\n",
       "      <td>0.998724</td>\n",
       "      <td>SEKER</td>\n",
       "    </tr>\n",
       "    <tr>\n",
       "      <th>1</th>\n",
       "      <td>28734</td>\n",
       "      <td>638.018</td>\n",
       "      <td>200.524796</td>\n",
       "      <td>182.734419</td>\n",
       "      <td>1.097356</td>\n",
       "      <td>0.411785</td>\n",
       "      <td>29172</td>\n",
       "      <td>191.272750</td>\n",
       "      <td>0.783968</td>\n",
       "      <td>0.984986</td>\n",
       "      <td>0.887034</td>\n",
       "      <td>0.953861</td>\n",
       "      <td>0.006979</td>\n",
       "      <td>0.003564</td>\n",
       "      <td>0.909851</td>\n",
       "      <td>0.998430</td>\n",
       "      <td>SEKER</td>\n",
       "    </tr>\n",
       "    <tr>\n",
       "      <th>2</th>\n",
       "      <td>29380</td>\n",
       "      <td>624.110</td>\n",
       "      <td>212.826130</td>\n",
       "      <td>175.931143</td>\n",
       "      <td>1.209713</td>\n",
       "      <td>0.562727</td>\n",
       "      <td>29690</td>\n",
       "      <td>193.410904</td>\n",
       "      <td>0.778113</td>\n",
       "      <td>0.989559</td>\n",
       "      <td>0.947849</td>\n",
       "      <td>0.908774</td>\n",
       "      <td>0.007244</td>\n",
       "      <td>0.003048</td>\n",
       "      <td>0.825871</td>\n",
       "      <td>0.999066</td>\n",
       "      <td>SEKER</td>\n",
       "    </tr>\n",
       "    <tr>\n",
       "      <th>3</th>\n",
       "      <td>30008</td>\n",
       "      <td>645.884</td>\n",
       "      <td>210.557999</td>\n",
       "      <td>182.516516</td>\n",
       "      <td>1.153638</td>\n",
       "      <td>0.498616</td>\n",
       "      <td>30724</td>\n",
       "      <td>195.467062</td>\n",
       "      <td>0.782681</td>\n",
       "      <td>0.976696</td>\n",
       "      <td>0.903936</td>\n",
       "      <td>0.928329</td>\n",
       "      <td>0.007017</td>\n",
       "      <td>0.003215</td>\n",
       "      <td>0.861794</td>\n",
       "      <td>0.994199</td>\n",
       "      <td>SEKER</td>\n",
       "    </tr>\n",
       "    <tr>\n",
       "      <th>4</th>\n",
       "      <td>30140</td>\n",
       "      <td>620.134</td>\n",
       "      <td>201.847882</td>\n",
       "      <td>190.279279</td>\n",
       "      <td>1.060798</td>\n",
       "      <td>0.333680</td>\n",
       "      <td>30417</td>\n",
       "      <td>195.896503</td>\n",
       "      <td>0.773098</td>\n",
       "      <td>0.990893</td>\n",
       "      <td>0.984877</td>\n",
       "      <td>0.970516</td>\n",
       "      <td>0.006697</td>\n",
       "      <td>0.003665</td>\n",
       "      <td>0.941900</td>\n",
       "      <td>0.999166</td>\n",
       "      <td>SEKER</td>\n",
       "    </tr>\n",
       "  </tbody>\n",
       "</table>\n",
       "</div>"
      ],
      "text/plain": [
       "    Area  Perimeter  MajorAxisLength  MinorAxisLength  AspectRation  \\\n",
       "0  28395    610.291       208.178117       173.888747      1.197191   \n",
       "1  28734    638.018       200.524796       182.734419      1.097356   \n",
       "2  29380    624.110       212.826130       175.931143      1.209713   \n",
       "3  30008    645.884       210.557999       182.516516      1.153638   \n",
       "4  30140    620.134       201.847882       190.279279      1.060798   \n",
       "\n",
       "   Eccentricity  ConvexArea  EquivDiameter    Extent  Solidity  roundness  \\\n",
       "0      0.549812       28715     190.141097  0.763923  0.988856   0.958027   \n",
       "1      0.411785       29172     191.272750  0.783968  0.984986   0.887034   \n",
       "2      0.562727       29690     193.410904  0.778113  0.989559   0.947849   \n",
       "3      0.498616       30724     195.467062  0.782681  0.976696   0.903936   \n",
       "4      0.333680       30417     195.896503  0.773098  0.990893   0.984877   \n",
       "\n",
       "   Compactness  ShapeFactor1  ShapeFactor2  ShapeFactor3  ShapeFactor4  Class  \n",
       "0     0.913358      0.007332      0.003147      0.834222      0.998724  SEKER  \n",
       "1     0.953861      0.006979      0.003564      0.909851      0.998430  SEKER  \n",
       "2     0.908774      0.007244      0.003048      0.825871      0.999066  SEKER  \n",
       "3     0.928329      0.007017      0.003215      0.861794      0.994199  SEKER  \n",
       "4     0.970516      0.006697      0.003665      0.941900      0.999166  SEKER  "
      ]
     },
     "execution_count": 3,
     "metadata": {},
     "output_type": "execute_result"
    }
   ],
   "source": [
    "df.head()"
   ]
  },
  {
   "cell_type": "code",
   "execution_count": 4,
   "metadata": {},
   "outputs": [
    {
     "data": {
      "text/plain": [
       "(13600, 17)"
      ]
     },
     "execution_count": 4,
     "metadata": {},
     "output_type": "execute_result"
    }
   ],
   "source": [
    "df.shape"
   ]
  },
  {
   "cell_type": "markdown",
   "metadata": {},
   "source": [
    "# Checking Missing Values"
   ]
  },
  {
   "cell_type": "code",
   "execution_count": 5,
   "metadata": {},
   "outputs": [
    {
     "data": {
      "text/plain": [
       "Area               0\n",
       "Perimeter          0\n",
       "MajorAxisLength    0\n",
       "MinorAxisLength    0\n",
       "AspectRation       0\n",
       "Eccentricity       0\n",
       "ConvexArea         0\n",
       "EquivDiameter      0\n",
       "Extent             0\n",
       "Solidity           0\n",
       "roundness          0\n",
       "Compactness        0\n",
       "ShapeFactor1       0\n",
       "ShapeFactor2       0\n",
       "ShapeFactor3       0\n",
       "ShapeFactor4       0\n",
       "Class              0\n",
       "dtype: int64"
      ]
     },
     "execution_count": 5,
     "metadata": {},
     "output_type": "execute_result"
    }
   ],
   "source": [
    "df.isnull().sum()"
   ]
  },
  {
   "cell_type": "markdown",
   "metadata": {},
   "source": [
    "There is no missing values in the dataset"
   ]
  },
  {
   "cell_type": "markdown",
   "metadata": {},
   "source": [
    "# Standardising the data"
   ]
  },
  {
   "cell_type": "code",
   "execution_count": 6,
   "metadata": {},
   "outputs": [],
   "source": [
    "#create features and labels arrays from the data and standardize the features\n",
    "X = df.drop('Class',axis =1)\n",
    "y = df.Class\n",
    "\n",
    "#standardize the features\n",
    "scaler = StandardScaler()\n",
    "data_scaled = scaler.fit_transform(X)"
   ]
  },
  {
   "cell_type": "markdown",
   "metadata": {},
   "source": [
    "# PCA"
   ]
  },
  {
   "cell_type": "markdown",
   "metadata": {},
   "source": [
    "Create Principal components and merge the component with the target variable. Then i will extract all the components and decide how many components to use in the model."
   ]
  },
  {
   "cell_type": "code",
   "execution_count": 7,
   "metadata": {},
   "outputs": [],
   "source": [
    "#create PCA model and create the dataset containing extracted principal components and target variable\n",
    "pca = PCA(random_state =123).fit(data_scaled)\n",
    "principalComponents = PCA(random_state = 123).fit_transform(data_scaled)\n",
    "\n",
    "#create the principal components dataframe\n",
    "principalDf = pd.DataFrame(data = principalComponents, columns =['pc1','pc2','pc3','pc4','pc5','pc6','pc7','pc8','pc9','pc10','pc11','pc12','pc13','pc14','pc15','pc16'])\n",
    "\n",
    "#merge this data with the target variable\n",
    "finalDf_PCA = pd.concat([principalDf,df.Class], axis = 1)"
   ]
  },
  {
   "cell_type": "code",
   "execution_count": 8,
   "metadata": {},
   "outputs": [
    {
     "data": {
      "text/html": [
       "<div>\n",
       "<style scoped>\n",
       "    .dataframe tbody tr th:only-of-type {\n",
       "        vertical-align: middle;\n",
       "    }\n",
       "\n",
       "    .dataframe tbody tr th {\n",
       "        vertical-align: top;\n",
       "    }\n",
       "\n",
       "    .dataframe thead th {\n",
       "        text-align: right;\n",
       "    }\n",
       "</style>\n",
       "<table border=\"1\" class=\"dataframe\">\n",
       "  <thead>\n",
       "    <tr style=\"text-align: right;\">\n",
       "      <th></th>\n",
       "      <th>pc1</th>\n",
       "      <th>pc2</th>\n",
       "      <th>pc3</th>\n",
       "      <th>pc4</th>\n",
       "      <th>pc5</th>\n",
       "      <th>pc6</th>\n",
       "      <th>pc7</th>\n",
       "      <th>pc8</th>\n",
       "      <th>pc9</th>\n",
       "      <th>pc10</th>\n",
       "      <th>pc11</th>\n",
       "      <th>pc12</th>\n",
       "      <th>pc13</th>\n",
       "      <th>pc14</th>\n",
       "      <th>pc15</th>\n",
       "      <th>pc16</th>\n",
       "      <th>Class</th>\n",
       "    </tr>\n",
       "  </thead>\n",
       "  <tbody>\n",
       "    <tr>\n",
       "      <th>0</th>\n",
       "      <td>-4.983475</td>\n",
       "      <td>1.824254</td>\n",
       "      <td>0.749365</td>\n",
       "      <td>-0.390371</td>\n",
       "      <td>-0.032792</td>\n",
       "      <td>0.301642</td>\n",
       "      <td>0.611022</td>\n",
       "      <td>-0.274499</td>\n",
       "      <td>-0.235265</td>\n",
       "      <td>-0.035502</td>\n",
       "      <td>0.003005</td>\n",
       "      <td>0.037317</td>\n",
       "      <td>-0.039706</td>\n",
       "      <td>-0.000637</td>\n",
       "      <td>-0.002121</td>\n",
       "      <td>-0.000419</td>\n",
       "      <td>SEKER</td>\n",
       "    </tr>\n",
       "    <tr>\n",
       "      <th>1</th>\n",
       "      <td>-5.439172</td>\n",
       "      <td>2.932220</td>\n",
       "      <td>2.182253</td>\n",
       "      <td>-0.431966</td>\n",
       "      <td>1.227814</td>\n",
       "      <td>0.045447</td>\n",
       "      <td>1.692405</td>\n",
       "      <td>-0.317401</td>\n",
       "      <td>-0.178480</td>\n",
       "      <td>0.101402</td>\n",
       "      <td>0.145550</td>\n",
       "      <td>0.120781</td>\n",
       "      <td>-0.043035</td>\n",
       "      <td>0.004806</td>\n",
       "      <td>0.002281</td>\n",
       "      <td>-0.003106</td>\n",
       "      <td>SEKER</td>\n",
       "    </tr>\n",
       "    <tr>\n",
       "      <th>2</th>\n",
       "      <td>-4.760123</td>\n",
       "      <td>1.826707</td>\n",
       "      <td>0.514416</td>\n",
       "      <td>-0.125645</td>\n",
       "      <td>0.132165</td>\n",
       "      <td>0.208816</td>\n",
       "      <td>0.600425</td>\n",
       "      <td>-0.161902</td>\n",
       "      <td>-0.212452</td>\n",
       "      <td>-0.024383</td>\n",
       "      <td>-0.011022</td>\n",
       "      <td>0.037636</td>\n",
       "      <td>-0.029516</td>\n",
       "      <td>0.000972</td>\n",
       "      <td>-0.002494</td>\n",
       "      <td>-0.000219</td>\n",
       "      <td>SEKER</td>\n",
       "    </tr>\n",
       "    <tr>\n",
       "      <th>3</th>\n",
       "      <td>-4.302796</td>\n",
       "      <td>2.003679</td>\n",
       "      <td>3.554012</td>\n",
       "      <td>0.083189</td>\n",
       "      <td>0.802867</td>\n",
       "      <td>0.502443</td>\n",
       "      <td>0.660901</td>\n",
       "      <td>-0.672488</td>\n",
       "      <td>-0.143207</td>\n",
       "      <td>0.032556</td>\n",
       "      <td>0.028631</td>\n",
       "      <td>0.075701</td>\n",
       "      <td>-0.022990</td>\n",
       "      <td>-0.006644</td>\n",
       "      <td>0.002403</td>\n",
       "      <td>-0.001675</td>\n",
       "      <td>SEKER</td>\n",
       "    </tr>\n",
       "    <tr>\n",
       "      <th>4</th>\n",
       "      <td>-6.351557</td>\n",
       "      <td>4.088134</td>\n",
       "      <td>1.179913</td>\n",
       "      <td>-0.829931</td>\n",
       "      <td>-0.036188</td>\n",
       "      <td>-0.278014</td>\n",
       "      <td>1.729791</td>\n",
       "      <td>-0.893294</td>\n",
       "      <td>-0.001541</td>\n",
       "      <td>0.133896</td>\n",
       "      <td>0.329288</td>\n",
       "      <td>0.028800</td>\n",
       "      <td>-0.080511</td>\n",
       "      <td>-0.000996</td>\n",
       "      <td>0.011602</td>\n",
       "      <td>-0.005880</td>\n",
       "      <td>SEKER</td>\n",
       "    </tr>\n",
       "  </tbody>\n",
       "</table>\n",
       "</div>"
      ],
      "text/plain": [
       "        pc1       pc2       pc3       pc4       pc5       pc6       pc7  \\\n",
       "0 -4.983475  1.824254  0.749365 -0.390371 -0.032792  0.301642  0.611022   \n",
       "1 -5.439172  2.932220  2.182253 -0.431966  1.227814  0.045447  1.692405   \n",
       "2 -4.760123  1.826707  0.514416 -0.125645  0.132165  0.208816  0.600425   \n",
       "3 -4.302796  2.003679  3.554012  0.083189  0.802867  0.502443  0.660901   \n",
       "4 -6.351557  4.088134  1.179913 -0.829931 -0.036188 -0.278014  1.729791   \n",
       "\n",
       "        pc8       pc9      pc10      pc11      pc12      pc13      pc14  \\\n",
       "0 -0.274499 -0.235265 -0.035502  0.003005  0.037317 -0.039706 -0.000637   \n",
       "1 -0.317401 -0.178480  0.101402  0.145550  0.120781 -0.043035  0.004806   \n",
       "2 -0.161902 -0.212452 -0.024383 -0.011022  0.037636 -0.029516  0.000972   \n",
       "3 -0.672488 -0.143207  0.032556  0.028631  0.075701 -0.022990 -0.006644   \n",
       "4 -0.893294 -0.001541  0.133896  0.329288  0.028800 -0.080511 -0.000996   \n",
       "\n",
       "       pc15      pc16  Class  \n",
       "0 -0.002121 -0.000419  SEKER  \n",
       "1  0.002281 -0.003106  SEKER  \n",
       "2 -0.002494 -0.000219  SEKER  \n",
       "3  0.002403 -0.001675  SEKER  \n",
       "4  0.011602 -0.005880  SEKER  "
      ]
     },
     "execution_count": 8,
     "metadata": {},
     "output_type": "execute_result"
    }
   ],
   "source": [
    "finalDf_PCA.head()"
   ]
  },
  {
   "cell_type": "markdown",
   "metadata": {},
   "source": [
    "# Plotting first two dimensions of PCA"
   ]
  },
  {
   "cell_type": "code",
   "execution_count": 9,
   "metadata": {
    "scrolled": true
   },
   "outputs": [
    {
     "data": {
      "image/png": "[encoded data removed]",
      "text/plain": [
       "<Figure size 381.875x288 with 1 Axes>"
      ]
     },
     "metadata": {
      "needs_background": "light"
     },
     "output_type": "display_data"
    }
   ],
   "source": [
    "import seaborn as sns\n",
    "import matplotlib.pyplot as plt\n",
    "sns.FacetGrid(finalDf_PCA, hue=\"Class\", height=4).map(plt.scatter, 'pc1', 'pc2').add_legend()\n",
    "plt.title(\"Plotting the data on the first 2 principal components\", fontsize = 20)\n",
    "plt.xlabel('Principal Component 1', fontsize = 15)\n",
    "plt.ylabel('Principal Component 2', fontsize = 15)\n",
    "plt.show()"
   ]
  },
  {
   "cell_type": "code",
   "execution_count": 10,
   "metadata": {},
   "outputs": [],
   "source": [
    "def PCA_Variance_Explained(components):\n",
    "    pca = PCA(n_components = components, random_state=123)\n",
    "    \n",
    "    #fit PCA for i components\n",
    "    pca_results = pca.fit_transform(data_scaled)\n",
    "    \n",
    "    #project the transformations back\n",
    "    pca_proj_back = pca.inverse_transform(pca_results)\n",
    "    \n",
    "    #calculate the mean squared error\n",
    "    loss = ((data_scaled - pca_proj_back)**2).mean()\n",
    "    \n",
    "    #calculate the cumulative proportion of variance explained\n",
    "    cum_var = np.cumsum(np.round(pca.explained_variance_ratio_, decimals =4)*100)\n",
    "    \n",
    "    print(\"The reconsrtuction error for {} components is {:.2f}\".format(components,loss))\n",
    "    print(\"The cumulative variance explained for {} components is {:.2f}%\".format(components, cum_var[components-1]))"
   ]
  },
  {
   "cell_type": "code",
   "execution_count": 11,
   "metadata": {},
   "outputs": [
    {
     "name": "stdout",
     "output_type": "stream",
     "text": [
      "The reconsrtuction error for 4 components is 0.05\n",
      "The cumulative variance explained for 4 components is 95.03%\n"
     ]
    }
   ],
   "source": [
    "PCA_Variance_Explained(4)"
   ]
  },
  {
   "cell_type": "code",
   "execution_count": 12,
   "metadata": {},
   "outputs": [
    {
     "data": {
      "text/plain": [
       "array([5.54660413e-01, 2.64309805e-01, 8.00759898e-02, 5.11503294e-02,\n",
       "       2.73749648e-02, 1.15010220e-02, 6.97603201e-03, 3.24977208e-03,\n",
       "       5.16262322e-04, 9.09782045e-05, 6.58811262e-05, 1.83926892e-05,\n",
       "       9.28513832e-06, 6.26841088e-07, 1.34150878e-07, 1.11465295e-07])"
      ]
     },
     "execution_count": 12,
     "metadata": {},
     "output_type": "execute_result"
    }
   ],
   "source": [
    "pca.explained_variance_ratio_"
   ]
  },
  {
   "cell_type": "code",
   "execution_count": 13,
   "metadata": {
    "scrolled": true
   },
   "outputs": [
    {
     "data": {
      "image/png": "[encoded data removed]",
      "text/plain": [
       "<Figure size 720x576 with 1 Axes>"
      ]
     },
     "metadata": {
      "needs_background": "light"
     },
     "output_type": "display_data"
    }
   ],
   "source": [
    "#plotting the cumulative variance plot\n",
    "plt.figure(figsize = (10,8))\n",
    "plt.plot(np.cumsum(np.round(pca.explained_variance_ratio_, decimals=4)*100))\n",
    "plt.xlabel('Number of Components')\n",
    "plt.ylabel('Cumulative Explained Variance (%)')\n",
    "\n",
    "#plotting a red line on the 4th component\n",
    "plt.axvline(x=3,color ='red')\n",
    "plt.show()"
   ]
  },
  {
   "cell_type": "markdown",
   "metadata": {},
   "source": [
    "Defined a function that outputs the reconstruction error and variance explained by a given number of components."
   ]
  },
  {
   "cell_type": "code",
   "execution_count": 45,
   "metadata": {
    "scrolled": true
   },
   "outputs": [
    {
     "name": "stdout",
     "output_type": "stream",
     "text": [
      "The accuracy on training data is 89.26% and on validation data is 88.41%\n"
     ]
    }
   ],
   "source": [
    "#creating the features data out of PCA data using only the first 4 components\n",
    "X = finalDf_PCA.drop('Class', axis =1)\n",
    "X = X.iloc[:,0:4].values\n",
    "y=np.ravel(finalDf_PCA.Class)\n",
    "\n",
    "#random splitting of the data to training and validation data at 75:25 proportion\n",
    "x_train,x_test,y_train,y_test = train_test_split(X,y,test_size=0.25,random_state=123)\n",
    "\n",
    "#building a logistic regression model\n",
    "logisticRegr = LogisticRegression(max_iter=1000)\n",
    "model=logisticRegr.fit(x_train,y_train)\n",
    "\n",
    "#calcultaing accuracy on training and validation data\n",
    "score_test = model.score(x_test,y_test)\n",
    "score_train = model.score(x_train,y_train)\n",
    "print(\"The accuracy on training data is {:.2f}% and on validation data is {:.2f}%\". format(score_train*100, score_test*100))"
   ]
  },
  {
   "cell_type": "markdown",
   "metadata": {},
   "source": [
    "\n",
    "\n",
    "seems like the above logistic regression model that uses 4 principal components as the features data is overfitting. This issue can be addressed using regularizers. Since this is not the main topic of this analysis, leaving it here."
   ]
  },
  {
   "cell_type": "markdown",
   "metadata": {},
   "source": [
    "# Precision,recall and F1 score"
   ]
  },
  {
   "cell_type": "code",
   "execution_count": 46,
   "metadata": {},
   "outputs": [
    {
     "name": "stdout",
     "output_type": "stream",
     "text": [
      "              precision    recall  f1-score   support\n",
      "\n",
      "    BARBUNYA       0.80      0.69      0.74       324\n",
      "      BOMBAY       1.00      0.99      1.00       127\n",
      "        CALI       0.81      0.86      0.83       412\n",
      "    DERMASON       0.92      0.90      0.91       867\n",
      "       HOROZ       0.96      0.94      0.95       486\n",
      "       SEKER       0.94      0.94      0.94       529\n",
      "        SIRA       0.81      0.87      0.84       655\n",
      "\n",
      "    accuracy                           0.88      3400\n",
      "   macro avg       0.89      0.88      0.89      3400\n",
      "weighted avg       0.89      0.88      0.88      3400\n",
      "\n"
     ]
    }
   ],
   "source": [
    "from sklearn.metrics import classification_report,confusion_matrix,roc_curve,roc_auc_score,auc\n",
    "\n",
    "predict=model.predict(x_test)\n",
    "print(classification_report(y_test,predict))"
   ]
  },
  {
   "cell_type": "markdown",
   "metadata": {},
   "source": [
    "# Confusion Matrix"
   ]
  },
  {
   "cell_type": "code",
   "execution_count": 48,
   "metadata": {
    "scrolled": true
   },
   "outputs": [
    {
     "data": {
      "text/plain": [
       "<sklearn.metrics._plot.confusion_matrix.ConfusionMatrixDisplay at 0xd581780>"
      ]
     },
     "execution_count": 48,
     "metadata": {},
     "output_type": "execute_result"
    },
    {
     "data": {
      "image/png": "[encoded data removed]",
      "text/plain": [
       "<Figure size 504x504 with 2 Axes>"
      ]
     },
     "metadata": {
      "needs_background": "light"
     },
     "output_type": "display_data"
    }
   ],
   "source": [
    "fig, ax = plt.subplots(figsize=(7, 7))\n",
    "plot_confusion_matrix(model, x_test, y_test, ax=ax) "
   ]
  },
  {
   "cell_type": "code",
   "execution_count": 49,
   "metadata": {},
   "outputs": [],
   "source": [
    "def counts_from_confusion(confusion):\n",
    "    \"\"\"\n",
    "    Obtain TP, FN FP, and TN for each class in the confusion matrix\n",
    "    \"\"\"\n",
    "\n",
    "    counts_list = []\n",
    "    categories = [ 'BARBUNYA','BOMBAY','CALI','DERMASON','HOROZ', 'SEKER','SIRA']\n",
    "\n",
    "    # Iterate through classes and store the counts\n",
    "    for i in range(confusion.shape[0]):\n",
    "        tp = confusion[i, i]\n",
    "\n",
    "        fn_mask = np.zeros(confusion.shape)\n",
    "        fn_mask[i, :] = 1\n",
    "        fn_mask[i, i] = 0\n",
    "        fn = np.sum(np.multiply(confusion, fn_mask))\n",
    "\n",
    "        fp_mask = np.zeros(confusion.shape)\n",
    "        fp_mask[:, i] = 1\n",
    "        fp_mask[i, i] = 0\n",
    "        fp = np.sum(np.multiply(confusion, fp_mask))\n",
    "\n",
    "        tn_mask = 1 - (fn_mask + fp_mask)\n",
    "        tn_mask[i, i] = 0\n",
    "        tn = np.sum(np.multiply(confusion, tn_mask))\n",
    "\n",
    "        counts_list.append({\n",
    "                            'TP': tp,\n",
    "                            'FN': fn,\n",
    "                            'FP': fp,\n",
    "                            'TN': tn})\n",
    "\n",
    "    return counts_list"
   ]
  },
  {
   "cell_type": "code",
   "execution_count": 50,
   "metadata": {},
   "outputs": [],
   "source": [
    "cm = confusion_matrix(y_test, predict)"
   ]
  },
  {
   "cell_type": "code",
   "execution_count": 51,
   "metadata": {},
   "outputs": [],
   "source": [
    "list_cm = counts_from_confusion(cm)"
   ]
  },
  {
   "cell_type": "code",
   "execution_count": 52,
   "metadata": {},
   "outputs": [
    {
     "data": {
      "text/plain": [
       "[{'TP': 224, 'FN': 100.0, 'FP': 55.0, 'TN': 3021.0},\n",
       " {'TP': 126, 'FN': 1.0, 'FP': 0.0, 'TN': 3273.0},\n",
       " {'TP': 356, 'FN': 56.0, 'FP': 85.0, 'TN': 2903.0},\n",
       " {'TP': 778, 'FN': 89.0, 'FP': 71.0, 'TN': 2462.0},\n",
       " {'TP': 455, 'FN': 31.0, 'FP': 20.0, 'TN': 2894.0},\n",
       " {'TP': 496, 'FN': 33.0, 'FP': 29.0, 'TN': 2842.0},\n",
       " {'TP': 571, 'FN': 84.0, 'FP': 134.0, 'TN': 2611.0}]"
      ]
     },
     "execution_count": 52,
     "metadata": {},
     "output_type": "execute_result"
    }
   ],
   "source": [
    "list_cm"
   ]
  },
  {
   "cell_type": "markdown",
   "metadata": {},
   "source": [
    "# True Positive Rate"
   ]
  },
  {
   "cell_type": "code",
   "execution_count": 53,
   "metadata": {},
   "outputs": [],
   "source": [
    "True_positive_Rate = []\n",
    "categories = [ 'BARBUNYA','BOMBAY','CALI','DERMASON','HOROZ', 'SEKER','SIRA']\n",
    "for i in range(0,7):\n",
    "    TPR = list_cm[i][\"TP\"]*100/(list_cm[i][\"TP\"]+list_cm[i][\"FN\"])\n",
    "    \n",
    "    True_positive_Rate.append({ TPR,categories[i]})\n",
    "    \n",
    "    "
   ]
  },
  {
   "cell_type": "code",
   "execution_count": 54,
   "metadata": {},
   "outputs": [
    {
     "data": {
      "text/plain": [
       "[{69.1358024691358, 'BARBUNYA'},\n",
       " {99.21259842519684, 'BOMBAY'},\n",
       " {86.40776699029126, 'CALI'},\n",
       " {89.73471741637832, 'DERMASON'},\n",
       " {93.62139917695474, 'HOROZ'},\n",
       " {93.76181474480151, 'SEKER'},\n",
       " {87.17557251908397, 'SIRA'}]"
      ]
     },
     "execution_count": 54,
     "metadata": {},
     "output_type": "execute_result"
    }
   ],
   "source": [
    "True_positive_Rate"
   ]
  },
  {
   "cell_type": "markdown",
   "metadata": {},
   "source": [
    "# False Positive Rate"
   ]
  },
  {
   "cell_type": "code",
   "execution_count": 55,
   "metadata": {},
   "outputs": [],
   "source": [
    "False_positive_Rate = []\n",
    "categories = [ 'BARBUNYA','BOMBAY','CALI','DERMASON','HOROZ', 'SEKER','SIRA']\n",
    "for i in range(0,7):\n",
    "    FPR = list_cm[i][\"FP\"]*100/(list_cm[i][\"FP\"]+list_cm[i][\"TN\"])\n",
    "    \n",
    "    False_positive_Rate.append({ FPR,categories[i]})"
   ]
  },
  {
   "cell_type": "code",
   "execution_count": 56,
   "metadata": {},
   "outputs": [
    {
     "data": {
      "text/plain": [
       "[{1.788036410923277, 'BARBUNYA'},\n",
       " {0.0, 'BOMBAY'},\n",
       " {2.8447121820615795, 'CALI'},\n",
       " {2.803000394788788, 'DERMASON'},\n",
       " {0.6863417982155113, 'HOROZ'},\n",
       " {1.0101010101010102, 'SEKER'},\n",
       " {4.881602914389799, 'SIRA'}]"
      ]
     },
     "execution_count": 56,
     "metadata": {},
     "output_type": "execute_result"
    }
   ],
   "source": [
    "False_positive_Rate"
   ]
  },
  {
   "cell_type": "markdown",
   "metadata": {},
   "source": [
    "# Miss Classification Rate"
   ]
  },
  {
   "cell_type": "code",
   "execution_count": 57,
   "metadata": {},
   "outputs": [],
   "source": [
    "Miss_Classification_Rate = []\n",
    "categories = [ 'BARBUNYA','BOMBAY','CALI','DERMASON','HOROZ', 'SEKER','SIRA']\n",
    "for i in range(0,7):\n",
    "    MCR = (list_cm[i][\"FP\"] +  list_cm[i][\"FN\"])*100/(list_cm[i][\"TP\"]+list_cm[i][\"TN\"]+list_cm[i][\"FP\"]+list_cm[i][\"FN\"])\n",
    "    \n",
    "    Miss_Classification_Rate.append({ MCR,categories[i]})"
   ]
  },
  {
   "cell_type": "code",
   "execution_count": 58,
   "metadata": {},
   "outputs": [
    {
     "data": {
      "text/plain": [
       "[{4.5588235294117645, 'BARBUNYA'},\n",
       " {0.029411764705882353, 'BOMBAY'},\n",
       " {4.147058823529412, 'CALI'},\n",
       " {4.705882352941177, 'DERMASON'},\n",
       " {1.5, 'HOROZ'},\n",
       " {1.8235294117647058, 'SEKER'},\n",
       " {6.411764705882353, 'SIRA'}]"
      ]
     },
     "execution_count": 58,
     "metadata": {},
     "output_type": "execute_result"
    }
   ],
   "source": [
    "Miss_Classification_Rate"
   ]
  },
  {
   "cell_type": "markdown",
   "metadata": {},
   "source": [
    "# Without PCA"
   ]
  },
  {
   "cell_type": "code",
   "execution_count": 32,
   "metadata": {},
   "outputs": [
    {
     "name": "stdout",
     "output_type": "stream",
     "text": [
      "The accuracy on training data is 92.54% and on validation data is 92.03%\n"
     ]
    }
   ],
   "source": [
    "#creating the features data out of PCA data using only the first 4 components\n",
    "X_ = finalDf_PCA.drop('Class', axis =1)\n",
    "y_=np.ravel(finalDf_PCA.Class)\n",
    "\n",
    "#random splitting of the data to training and validation data at 75:25 proportion\n",
    "x_train_,x_test_,y_train_,y_test_ = train_test_split(X_,y_,test_size=0.25,random_state=123)\n",
    "\n",
    "#building a logistic regression model\n",
    "logisticRegr1 = LogisticRegression(max_iter=1000)\n",
    "model1=logisticRegr1.fit(x_train_,y_train_)\n",
    "\n",
    "#calcultaing accuracy on training and validation data\n",
    "score_test1 = model1.score(x_test_,y_test_)\n",
    "score_train1 = model1.score(x_train_,y_train_)\n",
    "print(\"The accuracy on training data is {:.2f}% and on validation data is {:.2f}%\". format(score_train1*100, score_test1*100))"
   ]
  },
  {
   "cell_type": "markdown",
   "metadata": {},
   "source": [
    "# Precision,Recall,F1 score without PCA"
   ]
  },
  {
   "cell_type": "code",
   "execution_count": 33,
   "metadata": {},
   "outputs": [
    {
     "name": "stdout",
     "output_type": "stream",
     "text": [
      "              precision    recall  f1-score   support\n",
      "\n",
      "    BARBUNYA       0.95      0.91      0.93       324\n",
      "      BOMBAY       1.00      1.00      1.00       127\n",
      "        CALI       0.94      0.95      0.94       412\n",
      "    DERMASON       0.93      0.91      0.92       867\n",
      "       HOROZ       0.95      0.94      0.95       486\n",
      "       SEKER       0.94      0.95      0.95       529\n",
      "        SIRA       0.83      0.87      0.85       655\n",
      "\n",
      "    accuracy                           0.92      3400\n",
      "   macro avg       0.93      0.93      0.93      3400\n",
      "weighted avg       0.92      0.92      0.92      3400\n",
      "\n"
     ]
    }
   ],
   "source": [
    "from sklearn.metrics import classification_report,confusion_matrix,roc_curve,roc_auc_score,auc\n",
    "\n",
    "predict1=model1.predict(x_test_)\n",
    "print(classification_report(y_test_,predict1))"
   ]
  },
  {
   "cell_type": "markdown",
   "metadata": {},
   "source": [
    "# Confusion Matrix Without PCA"
   ]
  },
  {
   "cell_type": "code",
   "execution_count": 34,
   "metadata": {},
   "outputs": [
    {
     "data": {
      "text/plain": [
       "<sklearn.metrics._plot.confusion_matrix.ConfusionMatrixDisplay at 0xd581e10>"
      ]
     },
     "execution_count": 34,
     "metadata": {},
     "output_type": "execute_result"
    },
    {
     "data": {
      "image/png": "[encoded data removed]",
      "text/plain": [
       "<Figure size 504x504 with 2 Axes>"
      ]
     },
     "metadata": {
      "needs_background": "light"
     },
     "output_type": "display_data"
    }
   ],
   "source": [
    "fig, ax = plt.subplots(figsize=(7, 7))\n",
    "plot_confusion_matrix(model1, x_test_, y_test_, ax=ax) "
   ]
  },
  {
   "cell_type": "code",
   "execution_count": 35,
   "metadata": {},
   "outputs": [],
   "source": [
    "def counts_from_confusion(confusion):\n",
    "    \"\"\"\n",
    "    Obtain TP, FN FP, and TN for each class in the confusion matrix\n",
    "    \"\"\"\n",
    "\n",
    "    counts_list = []\n",
    "    categories = [ 'BARBUNYA','BOMBAY','CALI','DERMASON','HOROZ', 'SEKER','SIRA']\n",
    "\n",
    "    # Iterate through classes and store the counts\n",
    "    for i in range(confusion.shape[0]):\n",
    "        tp = confusion[i, i]\n",
    "\n",
    "        fn_mask = np.zeros(confusion.shape)\n",
    "        fn_mask[i, :] = 1\n",
    "        fn_mask[i, i] = 0\n",
    "        fn = np.sum(np.multiply(confusion, fn_mask))\n",
    "\n",
    "        fp_mask = np.zeros(confusion.shape)\n",
    "        fp_mask[:, i] = 1\n",
    "        fp_mask[i, i] = 0\n",
    "        fp = np.sum(np.multiply(confusion, fp_mask))\n",
    "\n",
    "        tn_mask = 1 - (fn_mask + fp_mask)\n",
    "        tn_mask[i, i] = 0\n",
    "        tn = np.sum(np.multiply(confusion, tn_mask))\n",
    "\n",
    "        counts_list.append({\n",
    "                            'TP': tp,\n",
    "                            'FN': fn,\n",
    "                            'FP': fp,\n",
    "                            'TN': tn})\n",
    "\n",
    "    return counts_list"
   ]
  },
  {
   "cell_type": "code",
   "execution_count": 36,
   "metadata": {},
   "outputs": [],
   "source": [
    "cm1 = confusion_matrix(y_test_, predict1)"
   ]
  },
  {
   "cell_type": "code",
   "execution_count": 37,
   "metadata": {},
   "outputs": [],
   "source": [
    "list_cm1 = counts_from_confusion(cm1)"
   ]
  },
  {
   "cell_type": "code",
   "execution_count": 38,
   "metadata": {},
   "outputs": [
    {
     "data": {
      "text/plain": [
       "[{'TP': 296, 'FN': 28.0, 'FP': 17.0, 'TN': 3059.0},\n",
       " {'TP': 127, 'FN': 0.0, 'FP': 0.0, 'TN': 3273.0},\n",
       " {'TP': 390, 'FN': 22.0, 'FP': 24.0, 'TN': 2964.0},\n",
       " {'TP': 786, 'FN': 81.0, 'FP': 62.0, 'TN': 2471.0},\n",
       " {'TP': 457, 'FN': 29.0, 'FP': 24.0, 'TN': 2890.0},\n",
       " {'TP': 501, 'FN': 28.0, 'FP': 30.0, 'TN': 2841.0},\n",
       " {'TP': 572, 'FN': 83.0, 'FP': 114.0, 'TN': 2631.0}]"
      ]
     },
     "execution_count": 38,
     "metadata": {},
     "output_type": "execute_result"
    }
   ],
   "source": [
    "list_cm1"
   ]
  },
  {
   "cell_type": "markdown",
   "metadata": {},
   "source": [
    "# True Positive Rate without PCA"
   ]
  },
  {
   "cell_type": "code",
   "execution_count": 39,
   "metadata": {},
   "outputs": [],
   "source": [
    "True_positive_Rate = []\n",
    "categories = [ 'BARBUNYA','BOMBAY','CALI','DERMASON','HOROZ', 'SEKER','SIRA']\n",
    "for i in range(0,7):\n",
    "    TPR = list_cm1[i][\"TP\"]*100/(list_cm1[i][\"TP\"]+list_cm1[i][\"FN\"])\n",
    "    \n",
    "    True_positive_Rate.append({ TPR,categories[i]})\n",
    "    "
   ]
  },
  {
   "cell_type": "code",
   "execution_count": 40,
   "metadata": {},
   "outputs": [
    {
     "data": {
      "text/plain": [
       "[{91.35802469135803, 'BARBUNYA'},\n",
       " {100.0, 'BOMBAY'},\n",
       " {94.66019417475728, 'CALI'},\n",
       " {90.65743944636678, 'DERMASON'},\n",
       " {94.03292181069959, 'HOROZ'},\n",
       " {94.70699432892249, 'SEKER'},\n",
       " {87.32824427480917, 'SIRA'}]"
      ]
     },
     "execution_count": 40,
     "metadata": {},
     "output_type": "execute_result"
    }
   ],
   "source": [
    "True_positive_Rate"
   ]
  },
  {
   "cell_type": "markdown",
   "metadata": {},
   "source": [
    "# False Positive Rate without PCA"
   ]
  },
  {
   "cell_type": "code",
   "execution_count": 41,
   "metadata": {},
   "outputs": [],
   "source": [
    "False_positive_Rate = []\n",
    "categories = [ 'BARBUNYA','BOMBAY','CALI','DERMASON','HOROZ', 'SEKER','SIRA']\n",
    "for i in range(0,7):\n",
    "    FPR = list_cm1[i][\"FP\"]*100/(list_cm1[i][\"FP\"]+list_cm1[i][\"TN\"])\n",
    "    \n",
    "    False_positive_Rate.append({ FPR,categories[i]})"
   ]
  },
  {
   "cell_type": "code",
   "execution_count": 42,
   "metadata": {},
   "outputs": [
    {
     "data": {
      "text/plain": [
       "[{0.552665799739922, 'BARBUNYA'},\n",
       " {0.0, 'BOMBAY'},\n",
       " {0.8032128514056225, 'CALI'},\n",
       " {2.447690485590209, 'DERMASON'},\n",
       " {0.8236101578586136, 'HOROZ'},\n",
       " {1.044932079414838, 'SEKER'},\n",
       " {4.1530054644808745, 'SIRA'}]"
      ]
     },
     "execution_count": 42,
     "metadata": {},
     "output_type": "execute_result"
    }
   ],
   "source": [
    "False_positive_Rate"
   ]
  },
  {
   "cell_type": "markdown",
   "metadata": {},
   "source": [
    "# Miss Classification Rate without PCA"
   ]
  },
  {
   "cell_type": "code",
   "execution_count": 43,
   "metadata": {},
   "outputs": [],
   "source": [
    "Miss_Classification_Rate = []\n",
    "categories = [ 'BARBUNYA','BOMBAY','CALI','DERMASON','HOROZ', 'SEKER','SIRA']\n",
    "for i in range(0,7):\n",
    "    MCR = (list_cm1[i][\"FP\"] +  list_cm1[i][\"FN\"])*100/(list_cm1[i][\"TP\"]+list_cm1[i][\"TN\"]+list_cm1[i][\"FP\"]+list_cm1[i][\"FN\"])\n",
    "    \n",
    "    Miss_Classification_Rate.append({ MCR,categories[i]})"
   ]
  },
  {
   "cell_type": "code",
   "execution_count": 44,
   "metadata": {},
   "outputs": [
    {
     "data": {
      "text/plain": [
       "[{1.3235294117647058, 'BARBUNYA'},\n",
       " {0.0, 'BOMBAY'},\n",
       " {1.3529411764705883, 'CALI'},\n",
       " {4.205882352941177, 'DERMASON'},\n",
       " {1.5588235294117647, 'HOROZ'},\n",
       " {1.7058823529411764, 'SEKER'},\n",
       " {5.794117647058823, 'SIRA'}]"
      ]
     },
     "execution_count": 44,
     "metadata": {},
     "output_type": "execute_result"
    }
   ],
   "source": [
    "Miss_Classification_Rate"
   ]
  },
  {
   "cell_type": "code",
   "execution_count": null,
   "metadata": {},
   "outputs": [],
   "source": []
  },
  {
   "cell_type": "code",
   "execution_count": null,
   "metadata": {},
   "outputs": [],
   "source": []
  }
 ],
 "metadata": {
  "kernelspec": {
   "display_name": "Python 3",
   "language": "python",
   "name": "python3"
  },
  "language_info": {
   "codemirror_mode": {
    "name": "ipython",
    "version": 3
   },
   "file_extension": ".py",
   "mimetype": "text/x-python",
   "name": "python",
   "nbconvert_exporter": "python",
   "pygments_lexer": "ipython3",
   "version": "3.7.3"
  }
 },
 "nbformat": 4,
 "nbformat_minor": 2
}
